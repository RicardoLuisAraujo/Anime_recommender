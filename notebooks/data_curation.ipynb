{
 "cells": [
  {
   "cell_type": "code",
   "execution_count": 1,
   "metadata": {},
   "outputs": [],
   "source": [
    "import pandas as pd\n",
    "import matplotlib.pyplot as plt\n",
    "import seaborn as sns"
   ]
  },
  {
   "cell_type": "code",
   "execution_count": 2,
   "metadata": {},
   "outputs": [],
   "source": [
    "animes_path = \"../data/AnimeList.csv\"\n",
    "users_path = \"../data/UserList.csv\"\n",
    "reviews_path = \"../data/UserAnimeList.parquet\""
   ]
  },
  {
   "cell_type": "code",
   "execution_count": 3,
   "metadata": {},
   "outputs": [],
   "source": [
    "animes_df = pd.read_csv(animes_path)\n",
    "users_df = pd.read_csv(users_path)\n",
    "reviews_df = pd.read_parquet(reviews_path, columns=[\"username\", \"anime_id\", \"my_score\"])"
   ]
  },
  {
   "cell_type": "code",
   "execution_count": 6,
   "metadata": {},
   "outputs": [],
   "source": [
    "animes_df = animes_df.fillna(\"No Info.\")"
   ]
  },
  {
   "cell_type": "code",
   "execution_count": 7,
   "metadata": {},
   "outputs": [],
   "source": [
    "animes_df.to_csv(\"../data/AnimeList.csv\", index=False)"
   ]
  },
  {
   "cell_type": "code",
   "execution_count": null,
   "metadata": {},
   "outputs": [],
   "source": []
  }
 ],
 "metadata": {
  "kernelspec": {
   "display_name": "anime_recommender-1pmzqaR3",
   "language": "python",
   "name": "python3"
  },
  "language_info": {
   "codemirror_mode": {
    "name": "ipython",
    "version": 3
   },
   "file_extension": ".py",
   "mimetype": "text/x-python",
   "name": "python",
   "nbconvert_exporter": "python",
   "pygments_lexer": "ipython3",
   "version": "3.10.3"
  },
  "orig_nbformat": 4,
  "vscode": {
   "interpreter": {
    "hash": "a663876536c8774fb4767a59f934fc0c8ea00f69adaa5a94e23ea63642e9bf67"
   }
  }
 },
 "nbformat": 4,
 "nbformat_minor": 2
}
