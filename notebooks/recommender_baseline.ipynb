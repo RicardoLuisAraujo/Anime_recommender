{
 "cells": [
  {
   "attachments": {},
   "cell_type": "markdown",
   "metadata": {
    "id": "YkDpyCgp5zyJ"
   },
   "source": [
    "# _Imports and Opening Datasets_\n"
   ]
  },
  {
   "cell_type": "code",
   "execution_count": null,
   "metadata": {
    "executionInfo": {
     "elapsed": 5,
     "status": "ok",
     "timestamp": 1645113058075,
     "user": {
      "displayName": "Ricardo Araújo",
      "photoUrl": "https://lh3.googleusercontent.com/a/default-user=s64",
      "userId": "08787324913670030815"
     },
     "user_tz": 0
    },
    "id": "vI2Nhvt_u-WX"
   },
   "outputs": [],
   "source": [
    "import pandas as pd\n",
    "import matplotlib.pyplot as plt\n",
    "import seaborn as sns\n"
   ]
  },
  {
   "cell_type": "code",
   "execution_count": null,
   "metadata": {
    "colab": {
     "base_uri": "https://localhost:8080/"
    },
    "executionInfo": {
     "elapsed": 20774,
     "status": "ok",
     "timestamp": 1645113078845,
     "user": {
      "displayName": "Ricardo Araújo",
      "photoUrl": "https://lh3.googleusercontent.com/a/default-user=s64",
      "userId": "08787324913670030815"
     },
     "user_tz": 0
    },
    "id": "MHhaMrL8wfYc",
    "outputId": "abb37e78-0d50-4b80-c51d-615a88b3b152"
   },
   "outputs": [],
   "source": [
    "animes_path = \"../data/AnimeList.csv\"\n",
    "users_path = \"../data/UserList.csv\"\n",
    "reviews_path = \"../data/UserAnimeList.parquet\"\n"
   ]
  },
  {
   "cell_type": "code",
   "execution_count": null,
   "metadata": {
    "executionInfo": {
     "elapsed": 15173,
     "status": "ok",
     "timestamp": 1645113094014,
     "user": {
      "displayName": "Ricardo Araújo",
      "photoUrl": "https://lh3.googleusercontent.com/a/default-user=s64",
      "userId": "08787324913670030815"
     },
     "user_tz": 0
    },
    "id": "KQLceGvV5lMI"
   },
   "outputs": [],
   "source": [
    "animes_df = pd.read_csv(animes_path)\n",
    "users_df = pd.read_csv(users_path)\n",
    "reviews_df = pd.read_parquet(reviews_path, columns=[\"username\", \"anime_id\", \"my_score\"])\n"
   ]
  },
  {
   "cell_type": "code",
   "execution_count": null,
   "metadata": {},
   "outputs": [],
   "source": [
    "animes_df[animes_df[\"title_english\"] == \"Bleach\"].to_dict(\n",
    "        orient=\"records\"\n",
    "    )"
   ]
  },
  {
   "attachments": {},
   "cell_type": "markdown",
   "metadata": {
    "id": "Sq1a3xk53jXq"
   },
   "source": [
    "# Reviews_df Exploration & Preparation\n"
   ]
  },
  {
   "cell_type": "code",
   "execution_count": null,
   "metadata": {
    "colab": {
     "base_uri": "https://localhost:8080/",
     "height": 206
    },
    "executionInfo": {
     "elapsed": 6,
     "status": "ok",
     "timestamp": 1645113098847,
     "user": {
      "displayName": "Ricardo Araújo",
      "photoUrl": "https://lh3.googleusercontent.com/a/default-user=s64",
      "userId": "08787324913670030815"
     },
     "user_tz": 0
    },
    "id": "GaF-W7Rp1_5g",
    "outputId": "2b4b79b3-43e6-497a-fa63-ffad63865b3a"
   },
   "outputs": [],
   "source": [
    "reviews_df.head()\n"
   ]
  },
  {
   "cell_type": "code",
   "execution_count": null,
   "metadata": {
    "colab": {
     "base_uri": "https://localhost:8080/",
     "height": 206
    },
    "executionInfo": {
     "elapsed": 1719,
     "status": "ok",
     "timestamp": 1645113100561,
     "user": {
      "displayName": "Ricardo Araújo",
      "photoUrl": "https://lh3.googleusercontent.com/a/default-user=s64",
      "userId": "08787324913670030815"
     },
     "user_tz": 0
    },
    "id": "cpbpYMyKu-XB",
    "outputId": "b5c5e664-8ff1-46a2-9a58-f6c58cf1e4e8"
   },
   "outputs": [],
   "source": [
    "all_df = pd.merge(\n",
    "    reviews_df, animes_df[[\"anime_id\", \"title\"]], how=\"left\", on=\"anime_id\"\n",
    ")\n",
    "all_df.head()\n"
   ]
  },
  {
   "cell_type": "code",
   "execution_count": null,
   "metadata": {
    "colab": {
     "base_uri": "https://localhost:8080/",
     "height": 206
    },
    "executionInfo": {
     "elapsed": 1659,
     "status": "ok",
     "timestamp": 1645113102216,
     "user": {
      "displayName": "Ricardo Araújo",
      "photoUrl": "https://lh3.googleusercontent.com/a/default-user=s64",
      "userId": "08787324913670030815"
     },
     "user_tz": 0
    },
    "id": "f0c7j8Z84-TY",
    "outputId": "3fef1820-eb95-4fde-e379-ee643ee4babe"
   },
   "outputs": [],
   "source": [
    "count_series = all_df[\"title\"].value_counts()\n",
    "\n",
    "all_df = all_df[all_df.title.isin(count_series[count_series > 2000].index)]\n",
    "all_df.head()\n"
   ]
  },
  {
   "cell_type": "code",
   "execution_count": null,
   "metadata": {
    "executionInfo": {
     "elapsed": 11566,
     "status": "ok",
     "timestamp": 1645113113777,
     "user": {
      "displayName": "Ricardo Araújo",
      "photoUrl": "https://lh3.googleusercontent.com/a/default-user=s64",
      "userId": "08787324913670030815"
     },
     "user_tz": 0
    },
    "id": "xuMo4xNtu-XD"
   },
   "outputs": [],
   "source": [
    "reviews_df.drop_duplicates(subset=[\"username\", \"anime_id\"], keep=\"last\", inplace=True)\n",
    "all_df.drop_duplicates(subset=[\"username\", \"anime_id\"], keep=\"last\", inplace=True)\n",
    "\n",
    "score_matrix_df = all_df.pivot_table(\n",
    "    index=\"username\", columns=\"title\", values=\"my_score\"\n",
    ")\n"
   ]
  },
  {
   "cell_type": "code",
   "execution_count": null,
   "metadata": {},
   "outputs": [],
   "source": [
    "# score_matrix_df.to_parquet('../data/score_matrix.parquet')\n",
    "score_matrix_df = pd.read_parquet(\"../data/score_matrix.parquet\")"
   ]
  },
  {
   "cell_type": "code",
   "execution_count": null,
   "metadata": {},
   "outputs": [],
   "source": [
    "def recommendation_system(anime_name):\n",
    "\n",
    "    # grab user ratings for the a certain anime\n",
    "    anime_user_ratings = score_matrix_df[anime_name]\n",
    "\n",
    "    # Use Corrwith as a method to get user correlation\n",
    "    similar_to_anime = score_matrix_df.corrwith(anime_user_ratings)\n",
    "\n",
    "    # Clean the null values from both movies\n",
    "    corr_anime = pd.DataFrame(similar_to_anime, columns=[\"Correlation\"])\n",
    "\n",
    "    # sort dataframe by correlation and choosing only the top 10 anime\n",
    "    return corr_anime.sort_values(\"Correlation\", ascending=False).head(10).reset_index()\n"
   ]
  },
  {
   "cell_type": "code",
   "execution_count": null,
   "metadata": {},
   "outputs": [],
   "source": [
    "recommendation_system(\"Bleach\")\n"
   ]
  },
  {
   "cell_type": "code",
   "execution_count": null,
   "metadata": {
    "colab": {
     "base_uri": "https://localhost:8080/",
     "height": 394
    },
    "executionInfo": {
     "elapsed": 684,
     "status": "ok",
     "timestamp": 1645113115663,
     "user": {
      "displayName": "Ricardo Araújo",
      "photoUrl": "https://lh3.googleusercontent.com/a/default-user=s64",
      "userId": "08787324913670030815"
     },
     "user_tz": 0
    },
    "id": "mcZcQ5vE3TYY",
    "outputId": "8d6b1687-3003-40e5-dfe6-aab9626cc818"
   },
   "outputs": [],
   "source": [
    "recommendation_system(\"Dragon Ball\")\n"
   ]
  },
  {
   "cell_type": "code",
   "execution_count": null,
   "metadata": {
    "colab": {
     "base_uri": "https://localhost:8080/",
     "height": 394
    },
    "executionInfo": {
     "elapsed": 904,
     "status": "ok",
     "timestamp": 1645113116564,
     "user": {
      "displayName": "Ricardo Araújo",
      "photoUrl": "https://lh3.googleusercontent.com/a/default-user=s64",
      "userId": "08787324913670030815"
     },
     "user_tz": 0
    },
    "id": "L2veMT2vs4Xi",
    "outputId": "9ab98bfd-10f2-4800-ebd2-3b5a118ff718"
   },
   "outputs": [],
   "source": [
    "recommendation_system(\"One Outs\")\n"
   ]
  }
 ],
 "metadata": {
  "kernelspec": {
   "display_name": "anime_recommender-1pmzqaR3",
   "language": "python",
   "name": "python3"
  },
  "language_info": {
   "codemirror_mode": {
    "name": "ipython",
    "version": 3
   },
   "file_extension": ".py",
   "mimetype": "text/x-python",
   "name": "python",
   "nbconvert_exporter": "python",
   "pygments_lexer": "ipython3",
   "version": "3.10.3"
  },
  "orig_nbformat": 4,
  "vscode": {
   "interpreter": {
    "hash": "a663876536c8774fb4767a59f934fc0c8ea00f69adaa5a94e23ea63642e9bf67"
   }
  }
 },
 "nbformat": 4,
 "nbformat_minor": 2
}
