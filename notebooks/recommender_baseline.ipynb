{
 "cells": [
  {
   "attachments": {},
   "cell_type": "markdown",
   "metadata": {
    "id": "YkDpyCgp5zyJ"
   },
   "source": [
    "# _Imports and Opening Datasets_\n"
   ]
  },
  {
   "cell_type": "code",
   "execution_count": 90,
   "metadata": {
    "executionInfo": {
     "elapsed": 5,
     "status": "ok",
     "timestamp": 1645113058075,
     "user": {
      "displayName": "Ricardo Araújo",
      "photoUrl": "https://lh3.googleusercontent.com/a/default-user=s64",
      "userId": "08787324913670030815"
     },
     "user_tz": 0
    },
    "id": "vI2Nhvt_u-WX"
   },
   "outputs": [],
   "source": [
    "import pandas as pd\n",
    "import matplotlib.pyplot as plt\n",
    "import seaborn as sns\n"
   ]
  },
  {
   "cell_type": "code",
   "execution_count": 91,
   "metadata": {
    "colab": {
     "base_uri": "https://localhost:8080/"
    },
    "executionInfo": {
     "elapsed": 20774,
     "status": "ok",
     "timestamp": 1645113078845,
     "user": {
      "displayName": "Ricardo Araújo",
      "photoUrl": "https://lh3.googleusercontent.com/a/default-user=s64",
      "userId": "08787324913670030815"
     },
     "user_tz": 0
    },
    "id": "MHhaMrL8wfYc",
    "outputId": "abb37e78-0d50-4b80-c51d-615a88b3b152"
   },
   "outputs": [],
   "source": [
    "animes_path = \"../data/AnimeList.csv\"\n",
    "users_path = \"../data/UserList.csv\"\n",
    "reviews_path = \"../data/UserAnimeList.parquet\"\n"
   ]
  },
  {
   "cell_type": "code",
   "execution_count": 92,
   "metadata": {
    "executionInfo": {
     "elapsed": 15173,
     "status": "ok",
     "timestamp": 1645113094014,
     "user": {
      "displayName": "Ricardo Araújo",
      "photoUrl": "https://lh3.googleusercontent.com/a/default-user=s64",
      "userId": "08787324913670030815"
     },
     "user_tz": 0
    },
    "id": "KQLceGvV5lMI"
   },
   "outputs": [],
   "source": [
    "animes_df = pd.read_csv(animes_path)\n",
    "users_df = pd.read_csv(users_path)\n",
    "reviews_df = pd.read_parquet(reviews_path, columns=[\"username\", \"anime_id\", \"my_score\"])\n"
   ]
  },
  {
   "cell_type": "code",
   "execution_count": 94,
   "metadata": {},
   "outputs": [
    {
     "data": {
      "text/plain": [
       "0        Inu X Boku Secret Service\n",
       "1            My Bride is a Mermaid\n",
       "2               Shugo Chara!! Doki\n",
       "3                    Princess Tutu\n",
       "4                         Bakuman.\n",
       "                   ...            \n",
       "14473                          NaN\n",
       "14474                          NaN\n",
       "14475                          NaN\n",
       "14476                          NaN\n",
       "14477                          NaN\n",
       "Name: title_english, Length: 14478, dtype: object"
      ]
     },
     "execution_count": 94,
     "metadata": {},
     "output_type": "execute_result"
    }
   ],
   "source": [
    "animes_df[\"title_english\"]\n",
    "anime_df[anime_df[\"title_english\"] == \"Bakuman.\"]"
   ]
  },
  {
   "attachments": {},
   "cell_type": "markdown",
   "metadata": {
    "id": "Sq1a3xk53jXq"
   },
   "source": [
    "# Reviews_df Exploration & Preparation\n"
   ]
  },
  {
   "cell_type": "code",
   "execution_count": 82,
   "metadata": {
    "colab": {
     "base_uri": "https://localhost:8080/",
     "height": 206
    },
    "executionInfo": {
     "elapsed": 6,
     "status": "ok",
     "timestamp": 1645113098847,
     "user": {
      "displayName": "Ricardo Araújo",
      "photoUrl": "https://lh3.googleusercontent.com/a/default-user=s64",
      "userId": "08787324913670030815"
     },
     "user_tz": 0
    },
    "id": "GaF-W7Rp1_5g",
    "outputId": "2b4b79b3-43e6-497a-fa63-ffad63865b3a"
   },
   "outputs": [
    {
     "data": {
      "text/html": [
       "<div>\n",
       "<style scoped>\n",
       "    .dataframe tbody tr th:only-of-type {\n",
       "        vertical-align: middle;\n",
       "    }\n",
       "\n",
       "    .dataframe tbody tr th {\n",
       "        vertical-align: top;\n",
       "    }\n",
       "\n",
       "    .dataframe thead th {\n",
       "        text-align: right;\n",
       "    }\n",
       "</style>\n",
       "<table border=\"1\" class=\"dataframe\">\n",
       "  <thead>\n",
       "    <tr style=\"text-align: right;\">\n",
       "      <th></th>\n",
       "      <th>username</th>\n",
       "      <th>anime_id</th>\n",
       "      <th>my_score</th>\n",
       "    </tr>\n",
       "  </thead>\n",
       "  <tbody>\n",
       "    <tr>\n",
       "      <th>13587253</th>\n",
       "      <td>Golden_Truth</td>\n",
       "      <td>5460</td>\n",
       "      <td>6</td>\n",
       "    </tr>\n",
       "    <tr>\n",
       "      <th>44469336</th>\n",
       "      <td>Choco22</td>\n",
       "      <td>33338</td>\n",
       "      <td>9</td>\n",
       "    </tr>\n",
       "    <tr>\n",
       "      <th>62177081</th>\n",
       "      <td>Daixu-De-Castro</td>\n",
       "      <td>20767</td>\n",
       "      <td>8</td>\n",
       "    </tr>\n",
       "    <tr>\n",
       "      <th>19970912</th>\n",
       "      <td>ONDORE</td>\n",
       "      <td>1689</td>\n",
       "      <td>0</td>\n",
       "    </tr>\n",
       "    <tr>\n",
       "      <th>54515097</th>\n",
       "      <td>-Nel-</td>\n",
       "      <td>2273</td>\n",
       "      <td>0</td>\n",
       "    </tr>\n",
       "  </tbody>\n",
       "</table>\n",
       "</div>"
      ],
      "text/plain": [
       "                 username  anime_id  my_score\n",
       "13587253     Golden_Truth      5460         6\n",
       "44469336          Choco22     33338         9\n",
       "62177081  Daixu-De-Castro     20767         8\n",
       "19970912           ONDORE      1689         0\n",
       "54515097            -Nel-      2273         0"
      ]
     },
     "execution_count": 82,
     "metadata": {},
     "output_type": "execute_result"
    }
   ],
   "source": [
    "reviews_df.head()\n"
   ]
  },
  {
   "cell_type": "code",
   "execution_count": 83,
   "metadata": {
    "colab": {
     "base_uri": "https://localhost:8080/",
     "height": 206
    },
    "executionInfo": {
     "elapsed": 1719,
     "status": "ok",
     "timestamp": 1645113100561,
     "user": {
      "displayName": "Ricardo Araújo",
      "photoUrl": "https://lh3.googleusercontent.com/a/default-user=s64",
      "userId": "08787324913670030815"
     },
     "user_tz": 0
    },
    "id": "cpbpYMyKu-XB",
    "outputId": "b5c5e664-8ff1-46a2-9a58-f6c58cf1e4e8"
   },
   "outputs": [
    {
     "data": {
      "text/html": [
       "<div>\n",
       "<style scoped>\n",
       "    .dataframe tbody tr th:only-of-type {\n",
       "        vertical-align: middle;\n",
       "    }\n",
       "\n",
       "    .dataframe tbody tr th {\n",
       "        vertical-align: top;\n",
       "    }\n",
       "\n",
       "    .dataframe thead th {\n",
       "        text-align: right;\n",
       "    }\n",
       "</style>\n",
       "<table border=\"1\" class=\"dataframe\">\n",
       "  <thead>\n",
       "    <tr style=\"text-align: right;\">\n",
       "      <th></th>\n",
       "      <th>username</th>\n",
       "      <th>anime_id</th>\n",
       "      <th>my_score</th>\n",
       "      <th>title</th>\n",
       "    </tr>\n",
       "  </thead>\n",
       "  <tbody>\n",
       "    <tr>\n",
       "      <th>0</th>\n",
       "      <td>Golden_Truth</td>\n",
       "      <td>5460</td>\n",
       "      <td>6</td>\n",
       "      <td>Detective Conan Movie 13: The Raven Chaser</td>\n",
       "    </tr>\n",
       "    <tr>\n",
       "      <th>1</th>\n",
       "      <td>Choco22</td>\n",
       "      <td>33338</td>\n",
       "      <td>9</td>\n",
       "      <td>One Piece: Heart of Gold</td>\n",
       "    </tr>\n",
       "    <tr>\n",
       "      <th>2</th>\n",
       "      <td>Daixu-De-Castro</td>\n",
       "      <td>20767</td>\n",
       "      <td>8</td>\n",
       "      <td>Noragami OVA</td>\n",
       "    </tr>\n",
       "    <tr>\n",
       "      <th>3</th>\n",
       "      <td>ONDORE</td>\n",
       "      <td>1689</td>\n",
       "      <td>0</td>\n",
       "      <td>Byousoku 5 Centimeter</td>\n",
       "    </tr>\n",
       "    <tr>\n",
       "      <th>4</th>\n",
       "      <td>-Nel-</td>\n",
       "      <td>2273</td>\n",
       "      <td>0</td>\n",
       "      <td>Mobile Suit Gundam Wing: Endless Waltz Movie</td>\n",
       "    </tr>\n",
       "  </tbody>\n",
       "</table>\n",
       "</div>"
      ],
      "text/plain": [
       "          username  anime_id  my_score  \\\n",
       "0     Golden_Truth      5460         6   \n",
       "1          Choco22     33338         9   \n",
       "2  Daixu-De-Castro     20767         8   \n",
       "3           ONDORE      1689         0   \n",
       "4            -Nel-      2273         0   \n",
       "\n",
       "                                          title  \n",
       "0    Detective Conan Movie 13: The Raven Chaser  \n",
       "1                      One Piece: Heart of Gold  \n",
       "2                                  Noragami OVA  \n",
       "3                         Byousoku 5 Centimeter  \n",
       "4  Mobile Suit Gundam Wing: Endless Waltz Movie  "
      ]
     },
     "execution_count": 83,
     "metadata": {},
     "output_type": "execute_result"
    }
   ],
   "source": [
    "all_df = pd.merge(\n",
    "    reviews_df, animes_df[[\"anime_id\", \"title\"]], how=\"left\", on=\"anime_id\"\n",
    ")\n",
    "all_df.head()\n"
   ]
  },
  {
   "cell_type": "code",
   "execution_count": 84,
   "metadata": {
    "colab": {
     "base_uri": "https://localhost:8080/",
     "height": 206
    },
    "executionInfo": {
     "elapsed": 1659,
     "status": "ok",
     "timestamp": 1645113102216,
     "user": {
      "displayName": "Ricardo Araújo",
      "photoUrl": "https://lh3.googleusercontent.com/a/default-user=s64",
      "userId": "08787324913670030815"
     },
     "user_tz": 0
    },
    "id": "f0c7j8Z84-TY",
    "outputId": "3fef1820-eb95-4fde-e379-ee643ee4babe"
   },
   "outputs": [
    {
     "data": {
      "text/html": [
       "<div>\n",
       "<style scoped>\n",
       "    .dataframe tbody tr th:only-of-type {\n",
       "        vertical-align: middle;\n",
       "    }\n",
       "\n",
       "    .dataframe tbody tr th {\n",
       "        vertical-align: top;\n",
       "    }\n",
       "\n",
       "    .dataframe thead th {\n",
       "        text-align: right;\n",
       "    }\n",
       "</style>\n",
       "<table border=\"1\" class=\"dataframe\">\n",
       "  <thead>\n",
       "    <tr style=\"text-align: right;\">\n",
       "      <th></th>\n",
       "      <th>username</th>\n",
       "      <th>anime_id</th>\n",
       "      <th>my_score</th>\n",
       "      <th>title</th>\n",
       "    </tr>\n",
       "  </thead>\n",
       "  <tbody>\n",
       "    <tr>\n",
       "      <th>2</th>\n",
       "      <td>Daixu-De-Castro</td>\n",
       "      <td>20767</td>\n",
       "      <td>8</td>\n",
       "      <td>Noragami OVA</td>\n",
       "    </tr>\n",
       "    <tr>\n",
       "      <th>3</th>\n",
       "      <td>ONDORE</td>\n",
       "      <td>1689</td>\n",
       "      <td>0</td>\n",
       "      <td>Byousoku 5 Centimeter</td>\n",
       "    </tr>\n",
       "    <tr>\n",
       "      <th>5</th>\n",
       "      <td>Anastasiaromanov</td>\n",
       "      <td>7674</td>\n",
       "      <td>0</td>\n",
       "      <td>Bakuman.</td>\n",
       "    </tr>\n",
       "    <tr>\n",
       "      <th>6</th>\n",
       "      <td>mdlnbrns</td>\n",
       "      <td>28735</td>\n",
       "      <td>0</td>\n",
       "      <td>Shouwa Genroku Rakugo Shinjuu</td>\n",
       "    </tr>\n",
       "    <tr>\n",
       "      <th>7</th>\n",
       "      <td>i_want_ultima</td>\n",
       "      <td>11759</td>\n",
       "      <td>2</td>\n",
       "      <td>Accel World</td>\n",
       "    </tr>\n",
       "  </tbody>\n",
       "</table>\n",
       "</div>"
      ],
      "text/plain": [
       "           username  anime_id  my_score                          title\n",
       "2   Daixu-De-Castro     20767         8                   Noragami OVA\n",
       "3            ONDORE      1689         0          Byousoku 5 Centimeter\n",
       "5  Anastasiaromanov      7674         0                       Bakuman.\n",
       "6          mdlnbrns     28735         0  Shouwa Genroku Rakugo Shinjuu\n",
       "7     i_want_ultima     11759         2                    Accel World"
      ]
     },
     "execution_count": 84,
     "metadata": {},
     "output_type": "execute_result"
    }
   ],
   "source": [
    "count_series = all_df[\"title\"].value_counts()\n",
    "\n",
    "all_df = all_df[all_df.title.isin(count_series[count_series > 2000].index)]\n",
    "all_df.head()\n"
   ]
  },
  {
   "cell_type": "code",
   "execution_count": 85,
   "metadata": {
    "executionInfo": {
     "elapsed": 11566,
     "status": "ok",
     "timestamp": 1645113113777,
     "user": {
      "displayName": "Ricardo Araújo",
      "photoUrl": "https://lh3.googleusercontent.com/a/default-user=s64",
      "userId": "08787324913670030815"
     },
     "user_tz": 0
    },
    "id": "xuMo4xNtu-XD"
   },
   "outputs": [],
   "source": [
    "reviews_df.drop_duplicates(subset=[\"username\", \"anime_id\"], keep=\"last\", inplace=True)\n",
    "all_df.drop_duplicates(subset=[\"username\", \"anime_id\"], keep=\"last\", inplace=True)\n",
    "\n",
    "score_matrix_df = all_df.pivot_table(\n",
    "    index=\"username\", columns=\"title\", values=\"my_score\"\n",
    ")\n"
   ]
  },
  {
   "cell_type": "code",
   "execution_count": null,
   "metadata": {},
   "outputs": [],
   "source": [
    "# score_matrix_df.to_parquet('../data/score_matrix.parquet')"
   ]
  },
  {
   "cell_type": "code",
   "execution_count": 86,
   "metadata": {},
   "outputs": [],
   "source": [
    "def recommendation_system(anime_name):\n",
    "\n",
    "    # grab user ratings for the a certain anime\n",
    "    anime_user_ratings = score_matrix_df[anime_name]\n",
    "\n",
    "    # Use Corrwith as a method to get user correlation\n",
    "    similar_to_anime = score_matrix_df.corrwith(anime_user_ratings)\n",
    "\n",
    "    # Clean the null values from both movies\n",
    "    corr_anime = pd.DataFrame(similar_to_anime, columns=[\"Correlation\"])\n",
    "\n",
    "    # sort dataframe by correlation and choosing only the top 10 anime\n",
    "    return corr_anime.sort_values(\"Correlation\", ascending=False).head(10).reset_index()\n"
   ]
  },
  {
   "cell_type": "code",
   "execution_count": 87,
   "metadata": {},
   "outputs": [
    {
     "data": {
      "text/html": [
       "<div>\n",
       "<style scoped>\n",
       "    .dataframe tbody tr th:only-of-type {\n",
       "        vertical-align: middle;\n",
       "    }\n",
       "\n",
       "    .dataframe tbody tr th {\n",
       "        vertical-align: top;\n",
       "    }\n",
       "\n",
       "    .dataframe thead th {\n",
       "        text-align: right;\n",
       "    }\n",
       "</style>\n",
       "<table border=\"1\" class=\"dataframe\">\n",
       "  <thead>\n",
       "    <tr style=\"text-align: right;\">\n",
       "      <th></th>\n",
       "      <th>title</th>\n",
       "      <th>Correlation</th>\n",
       "    </tr>\n",
       "  </thead>\n",
       "  <tbody>\n",
       "    <tr>\n",
       "      <th>0</th>\n",
       "      <td>Bleach</td>\n",
       "      <td>1.000000</td>\n",
       "    </tr>\n",
       "    <tr>\n",
       "      <th>1</th>\n",
       "      <td>Bleach: The Sealed Sword Frenzy</td>\n",
       "      <td>0.573518</td>\n",
       "    </tr>\n",
       "    <tr>\n",
       "      <th>2</th>\n",
       "      <td>Fairy Tail OVA</td>\n",
       "      <td>0.563693</td>\n",
       "    </tr>\n",
       "    <tr>\n",
       "      <th>3</th>\n",
       "      <td>Bleach Movie 4: Jigoku-hen</td>\n",
       "      <td>0.561095</td>\n",
       "    </tr>\n",
       "    <tr>\n",
       "      <th>4</th>\n",
       "      <td>Bleach Movie 3: Fade to Black - Kimi no Na wo ...</td>\n",
       "      <td>0.529737</td>\n",
       "    </tr>\n",
       "    <tr>\n",
       "      <th>5</th>\n",
       "      <td>Bleach Movie 1: Memories of Nobody</td>\n",
       "      <td>0.520337</td>\n",
       "    </tr>\n",
       "    <tr>\n",
       "      <th>6</th>\n",
       "      <td>Bleach: Memories in the Rain</td>\n",
       "      <td>0.511359</td>\n",
       "    </tr>\n",
       "    <tr>\n",
       "      <th>7</th>\n",
       "      <td>Naruto: Shippuuden</td>\n",
       "      <td>0.510672</td>\n",
       "    </tr>\n",
       "    <tr>\n",
       "      <th>8</th>\n",
       "      <td>Dragon Ball Z Movie 12: Fukkatsu no Fusion!! G...</td>\n",
       "      <td>0.487466</td>\n",
       "    </tr>\n",
       "    <tr>\n",
       "      <th>9</th>\n",
       "      <td>Naruto</td>\n",
       "      <td>0.475261</td>\n",
       "    </tr>\n",
       "  </tbody>\n",
       "</table>\n",
       "</div>"
      ],
      "text/plain": [
       "                                               title  Correlation\n",
       "0                                             Bleach     1.000000\n",
       "1                    Bleach: The Sealed Sword Frenzy     0.573518\n",
       "2                                     Fairy Tail OVA     0.563693\n",
       "3                         Bleach Movie 4: Jigoku-hen     0.561095\n",
       "4  Bleach Movie 3: Fade to Black - Kimi no Na wo ...     0.529737\n",
       "5                 Bleach Movie 1: Memories of Nobody     0.520337\n",
       "6                       Bleach: Memories in the Rain     0.511359\n",
       "7                                 Naruto: Shippuuden     0.510672\n",
       "8  Dragon Ball Z Movie 12: Fukkatsu no Fusion!! G...     0.487466\n",
       "9                                             Naruto     0.475261"
      ]
     },
     "execution_count": 87,
     "metadata": {},
     "output_type": "execute_result"
    }
   ],
   "source": [
    "recommendation_system(\"Bleach\")\n"
   ]
  },
  {
   "cell_type": "code",
   "execution_count": 88,
   "metadata": {
    "colab": {
     "base_uri": "https://localhost:8080/",
     "height": 394
    },
    "executionInfo": {
     "elapsed": 684,
     "status": "ok",
     "timestamp": 1645113115663,
     "user": {
      "displayName": "Ricardo Araújo",
      "photoUrl": "https://lh3.googleusercontent.com/a/default-user=s64",
      "userId": "08787324913670030815"
     },
     "user_tz": 0
    },
    "id": "mcZcQ5vE3TYY",
    "outputId": "8d6b1687-3003-40e5-dfe6-aab9626cc818"
   },
   "outputs": [
    {
     "data": {
      "text/html": [
       "<div>\n",
       "<style scoped>\n",
       "    .dataframe tbody tr th:only-of-type {\n",
       "        vertical-align: middle;\n",
       "    }\n",
       "\n",
       "    .dataframe tbody tr th {\n",
       "        vertical-align: top;\n",
       "    }\n",
       "\n",
       "    .dataframe thead th {\n",
       "        text-align: right;\n",
       "    }\n",
       "</style>\n",
       "<table border=\"1\" class=\"dataframe\">\n",
       "  <thead>\n",
       "    <tr style=\"text-align: right;\">\n",
       "      <th></th>\n",
       "      <th>title</th>\n",
       "      <th>Correlation</th>\n",
       "    </tr>\n",
       "  </thead>\n",
       "  <tbody>\n",
       "    <tr>\n",
       "      <th>0</th>\n",
       "      <td>Dragon Ball</td>\n",
       "      <td>1.000000</td>\n",
       "    </tr>\n",
       "    <tr>\n",
       "      <th>1</th>\n",
       "      <td>Dragon Ball Z</td>\n",
       "      <td>0.825568</td>\n",
       "    </tr>\n",
       "    <tr>\n",
       "      <th>2</th>\n",
       "      <td>Dragon Ball Z Special 2: Zetsubou e no Hankou!...</td>\n",
       "      <td>0.706778</td>\n",
       "    </tr>\n",
       "    <tr>\n",
       "      <th>3</th>\n",
       "      <td>Dragon Ball GT</td>\n",
       "      <td>0.676084</td>\n",
       "    </tr>\n",
       "    <tr>\n",
       "      <th>4</th>\n",
       "      <td>Dragon Ball Z Movie 02: Kono Yo de Ichiban Tsu...</td>\n",
       "      <td>0.648749</td>\n",
       "    </tr>\n",
       "    <tr>\n",
       "      <th>5</th>\n",
       "      <td>Digimon Adventure 02</td>\n",
       "      <td>0.612159</td>\n",
       "    </tr>\n",
       "    <tr>\n",
       "      <th>6</th>\n",
       "      <td>Pokemon: Mewtwo! Ware wa Koko ni Ari</td>\n",
       "      <td>0.606598</td>\n",
       "    </tr>\n",
       "    <tr>\n",
       "      <th>7</th>\n",
       "      <td>Dragon Ball Z Movie 01: Ora no Gohan wo Kaese!!</td>\n",
       "      <td>0.603859</td>\n",
       "    </tr>\n",
       "    <tr>\n",
       "      <th>8</th>\n",
       "      <td>Dragon Ball Z Movie 04: Super Saiyajin da Son ...</td>\n",
       "      <td>0.602274</td>\n",
       "    </tr>\n",
       "    <tr>\n",
       "      <th>9</th>\n",
       "      <td>Dragon Ball Z Special 1: Tatta Hitori no Saish...</td>\n",
       "      <td>0.596030</td>\n",
       "    </tr>\n",
       "  </tbody>\n",
       "</table>\n",
       "</div>"
      ],
      "text/plain": [
       "                                               title  Correlation\n",
       "0                                        Dragon Ball     1.000000\n",
       "1                                      Dragon Ball Z     0.825568\n",
       "2  Dragon Ball Z Special 2: Zetsubou e no Hankou!...     0.706778\n",
       "3                                     Dragon Ball GT     0.676084\n",
       "4  Dragon Ball Z Movie 02: Kono Yo de Ichiban Tsu...     0.648749\n",
       "5                               Digimon Adventure 02     0.612159\n",
       "6               Pokemon: Mewtwo! Ware wa Koko ni Ari     0.606598\n",
       "7    Dragon Ball Z Movie 01: Ora no Gohan wo Kaese!!     0.603859\n",
       "8  Dragon Ball Z Movie 04: Super Saiyajin da Son ...     0.602274\n",
       "9  Dragon Ball Z Special 1: Tatta Hitori no Saish...     0.596030"
      ]
     },
     "execution_count": 88,
     "metadata": {},
     "output_type": "execute_result"
    }
   ],
   "source": [
    "recommendation_system(\"Dragon Ball\")\n"
   ]
  },
  {
   "cell_type": "code",
   "execution_count": 89,
   "metadata": {
    "colab": {
     "base_uri": "https://localhost:8080/",
     "height": 394
    },
    "executionInfo": {
     "elapsed": 904,
     "status": "ok",
     "timestamp": 1645113116564,
     "user": {
      "displayName": "Ricardo Araújo",
      "photoUrl": "https://lh3.googleusercontent.com/a/default-user=s64",
      "userId": "08787324913670030815"
     },
     "user_tz": 0
    },
    "id": "L2veMT2vs4Xi",
    "outputId": "9ab98bfd-10f2-4800-ebd2-3b5a118ff718"
   },
   "outputs": [
    {
     "data": {
      "text/html": [
       "<div>\n",
       "<style scoped>\n",
       "    .dataframe tbody tr th:only-of-type {\n",
       "        vertical-align: middle;\n",
       "    }\n",
       "\n",
       "    .dataframe tbody tr th {\n",
       "        vertical-align: top;\n",
       "    }\n",
       "\n",
       "    .dataframe thead th {\n",
       "        text-align: right;\n",
       "    }\n",
       "</style>\n",
       "<table border=\"1\" class=\"dataframe\">\n",
       "  <thead>\n",
       "    <tr style=\"text-align: right;\">\n",
       "      <th></th>\n",
       "      <th>title</th>\n",
       "      <th>Correlation</th>\n",
       "    </tr>\n",
       "  </thead>\n",
       "  <tbody>\n",
       "    <tr>\n",
       "      <th>0</th>\n",
       "      <td>One Outs</td>\n",
       "      <td>1.000000</td>\n",
       "    </tr>\n",
       "    <tr>\n",
       "      <th>1</th>\n",
       "      <td>Astarotte no Omocha!</td>\n",
       "      <td>0.666854</td>\n",
       "    </tr>\n",
       "    <tr>\n",
       "      <th>2</th>\n",
       "      <td>Maburaho</td>\n",
       "      <td>0.625263</td>\n",
       "    </tr>\n",
       "    <tr>\n",
       "      <th>3</th>\n",
       "      <td>Trigun: Badlands Rumble</td>\n",
       "      <td>0.613353</td>\n",
       "    </tr>\n",
       "    <tr>\n",
       "      <th>4</th>\n",
       "      <td>Shinryaku!? Ika Musume</td>\n",
       "      <td>0.604001</td>\n",
       "    </tr>\n",
       "    <tr>\n",
       "      <th>5</th>\n",
       "      <td>Afro Samurai: Resurrection</td>\n",
       "      <td>0.596304</td>\n",
       "    </tr>\n",
       "    <tr>\n",
       "      <th>6</th>\n",
       "      <td>Kimi ga Aruji de Shitsuji ga Ore de</td>\n",
       "      <td>0.589950</td>\n",
       "    </tr>\n",
       "    <tr>\n",
       "      <th>7</th>\n",
       "      <td>Samurai 7</td>\n",
       "      <td>0.587110</td>\n",
       "    </tr>\n",
       "    <tr>\n",
       "      <th>8</th>\n",
       "      <td>Hoshizora e Kakaru Hashi</td>\n",
       "      <td>0.585131</td>\n",
       "    </tr>\n",
       "    <tr>\n",
       "      <th>9</th>\n",
       "      <td>Zan Sayonara Zetsubou Sensei</td>\n",
       "      <td>0.582201</td>\n",
       "    </tr>\n",
       "  </tbody>\n",
       "</table>\n",
       "</div>"
      ],
      "text/plain": [
       "                                 title  Correlation\n",
       "0                             One Outs     1.000000\n",
       "1                 Astarotte no Omocha!     0.666854\n",
       "2                             Maburaho     0.625263\n",
       "3              Trigun: Badlands Rumble     0.613353\n",
       "4               Shinryaku!? Ika Musume     0.604001\n",
       "5           Afro Samurai: Resurrection     0.596304\n",
       "6  Kimi ga Aruji de Shitsuji ga Ore de     0.589950\n",
       "7                            Samurai 7     0.587110\n",
       "8             Hoshizora e Kakaru Hashi     0.585131\n",
       "9         Zan Sayonara Zetsubou Sensei     0.582201"
      ]
     },
     "execution_count": 89,
     "metadata": {},
     "output_type": "execute_result"
    }
   ],
   "source": [
    "recommendation_system(\"One Outs\")\n"
   ]
  }
 ],
 "metadata": {
  "language_info": {
   "name": "python"
  },
  "orig_nbformat": 4
 },
 "nbformat": 4,
 "nbformat_minor": 2
}
