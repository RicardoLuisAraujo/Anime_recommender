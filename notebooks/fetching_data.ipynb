{
 "cells": [
  {
   "cell_type": "code",
   "execution_count": 1,
   "metadata": {},
   "outputs": [],
   "source": [
    "import pandas as pd\n",
    "import numpy as np\n",
    "from mal import *\n",
    "\n",
    "# documentation of MAL API"
   ]
  },
  {
   "cell_type": "code",
   "execution_count": 22,
   "metadata": {},
   "outputs": [
    {
     "name": "stdout",
     "output_type": "stream",
     "text": [
      "Shin Shirayuki-hime Densetsu Prétear\n"
     ]
    }
   ],
   "source": [
    "anime = Anime(100)\n",
    "print(anime.title)"
   ]
  },
  {
   "cell_type": "code",
   "execution_count": 23,
   "metadata": {},
   "outputs": [
    {
     "name": "stdout",
     "output_type": "stream",
     "text": [
      "7.17\n"
     ]
    }
   ],
   "source": [
    "print(anime.score)"
   ]
  },
  {
   "cell_type": "code",
   "execution_count": 24,
   "metadata": {},
   "outputs": [
    {
     "name": "stdout",
     "output_type": "stream",
     "text": [
      "Shin Shirayuki-hime Densetsu Prétear\n"
     ]
    }
   ],
   "source": [
    "print(anime.title)"
   ]
  },
  {
   "cell_type": "code",
   "execution_count": 26,
   "metadata": {},
   "outputs": [
    {
     "name": "stdout",
     "output_type": "stream",
     "text": [
      "Dragon Ball\n",
      "Dragon Ball Super\n"
     ]
    }
   ],
   "source": [
    "search = AnimeSearch(\"Dragon Ball\")  # Search for \"cowboy bebop\"\n",
    "\n",
    "print(search.results[0].title)  # Get title of first result\n",
    "print(search.results[1].title)  # Get title of first result"
   ]
  },
  {
   "cell_type": "code",
   "execution_count": 19,
   "metadata": {},
   "outputs": [
    {
     "data": {
      "text/plain": [
       "'https://cdn.myanimelist.net/images/anime/7/74606.jpg'"
      ]
     },
     "execution_count": 19,
     "metadata": {},
     "output_type": "execute_result"
    }
   ],
   "source": [
    "search.results[1].image_url"
   ]
  },
  {
   "cell_type": "code",
   "execution_count": 21,
   "metadata": {},
   "outputs": [
    {
     "name": "stdout",
     "output_type": "stream",
     "text": [
      "Cowboy Bebop 8.76 https://cdn.myanimelist.net/images/anime/4/19644.jpg\n"
     ]
    }
   ],
   "source": [
    "config.TIMEOUT = 1  # Import level config\n",
    "anime_id = 1\n",
    "\n",
    "anime = Anime(anime_id, timeout=1)  # Object level config\n",
    "print(anime.title, anime.score, anime.image_url)"
   ]
  },
  {
   "cell_type": "code",
   "execution_count": null,
   "metadata": {},
   "outputs": [],
   "source": []
  }
 ],
 "metadata": {
  "kernelspec": {
   "display_name": "anime_recommender",
   "language": "python",
   "name": "anime_recommender"
  },
  "language_info": {
   "codemirror_mode": {
    "name": "ipython",
    "version": 3
   },
   "file_extension": ".py",
   "mimetype": "text/x-python",
   "name": "python",
   "nbconvert_exporter": "python",
   "pygments_lexer": "ipython3",
   "version": "3.9.10"
  }
 },
 "nbformat": 4,
 "nbformat_minor": 2
}
