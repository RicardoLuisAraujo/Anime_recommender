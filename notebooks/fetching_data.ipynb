{
 "cells": [
  {
   "cell_type": "code",
   "execution_count": 7,
   "metadata": {},
   "outputs": [],
   "source": [
    "import pandas as pd\n",
    "import numpy as np\n",
    "from mal import *\n",
    "\n",
    "# documentation of MAL API"
   ]
  },
  {
   "cell_type": "code",
   "execution_count": 8,
   "metadata": {},
   "outputs": [
    {
     "name": "stdout",
     "output_type": "stream",
     "text": [
      "Shin Shirayuki-hime Densetsu Prétear\n"
     ]
    }
   ],
   "source": [
    "anime = Anime(100)\n",
    "print(anime.title)"
   ]
  },
  {
   "cell_type": "code",
   "execution_count": 13,
   "metadata": {},
   "outputs": [],
   "source": [
    "score_matrix_df = pd.read_parquet(\"../data/score_matrix.parquet\")"
   ]
  },
  {
   "cell_type": "code",
   "execution_count": 14,
   "metadata": {},
   "outputs": [],
   "source": [
    "def recommendation_system(anime_name):\n",
    "\n",
    "    # grab user ratings for the a certain anime\n",
    "    anime_user_ratings = score_matrix_df[anime_name]\n",
    "\n",
    "    # Use Corrwith as a method to get user correlation\n",
    "    similar_to_anime = score_matrix_df.corrwith(anime_user_ratings)\n",
    "\n",
    "    # Clean the null values from both movies\n",
    "    corr_anime = pd.DataFrame(similar_to_anime, columns=[\"Correlation\"])\n",
    "\n",
    "    # sort dataframe by correlation and choosing only the top 10 anime\n",
    "    return corr_anime.sort_values(\"Correlation\", ascending=False).head(10).reset_index()\n"
   ]
  },
  {
   "cell_type": "code",
   "execution_count": null,
   "metadata": {},
   "outputs": [],
   "source": [
    "recommendation_system(Anime(AnimeSearch('naruto').results[1].mal_id).title)"
   ]
  },
  {
   "cell_type": "code",
   "execution_count": 15,
   "metadata": {},
   "outputs": [
    {
     "data": {
      "text/plain": [
       "'Naruto: Shippuuden'"
      ]
     },
     "execution_count": 15,
     "metadata": {},
     "output_type": "execute_result"
    }
   ],
   "source": [
    "Anime(AnimeSearch('naruto').results[1].mal_id).title"
   ]
  },
  {
   "cell_type": "code",
   "execution_count": 3,
   "metadata": {},
   "outputs": [
    {
     "name": "stdout",
     "output_type": "stream",
     "text": [
      "7.17\n"
     ]
    }
   ],
   "source": [
    "print(anime.score)"
   ]
  },
  {
   "cell_type": "code",
   "execution_count": 4,
   "metadata": {},
   "outputs": [
    {
     "name": "stdout",
     "output_type": "stream",
     "text": [
      "Shin Shirayuki-hime Densetsu Prétear\n"
     ]
    }
   ],
   "source": [
    "print(anime.title)"
   ]
  },
  {
   "cell_type": "code",
   "execution_count": 5,
   "metadata": {},
   "outputs": [
    {
     "name": "stdout",
     "output_type": "stream",
     "text": [
      "Dragon Ball\n",
      "Dragon Ball Super\n"
     ]
    }
   ],
   "source": [
    "search = AnimeSearch(\"Dragon Ball\")  # Search for \"cowboy bebop\"\n",
    "\n",
    "print(search.results[0].title)  # Get title of first result\n",
    "print(search.results[1].title)  # Get title of first result"
   ]
  },
  {
   "cell_type": "code",
   "execution_count": 8,
   "metadata": {},
   "outputs": [
    {
     "data": {
      "text/plain": [
       "<mal._anime_search.AnimeSearchResult at 0x127aa9f60>"
      ]
     },
     "execution_count": 8,
     "metadata": {},
     "output_type": "execute_result"
    }
   ],
   "source": [
    "search.results[0]"
   ]
  },
  {
   "cell_type": "code",
   "execution_count": 19,
   "metadata": {},
   "outputs": [
    {
     "data": {
      "text/plain": [
       "'https://cdn.myanimelist.net/images/anime/7/74606.jpg'"
      ]
     },
     "execution_count": 19,
     "metadata": {},
     "output_type": "execute_result"
    }
   ],
   "source": [
    "search.results[1].image_url"
   ]
  },
  {
   "cell_type": "code",
   "execution_count": 21,
   "metadata": {},
   "outputs": [
    {
     "name": "stdout",
     "output_type": "stream",
     "text": [
      "Cowboy Bebop 8.76 https://cdn.myanimelist.net/images/anime/4/19644.jpg\n"
     ]
    }
   ],
   "source": [
    "config.TIMEOUT = 1  # Import level config\n",
    "anime_id = 1\n",
    "\n",
    "anime = Anime(anime_id, timeout=1)  # Object level config\n",
    "print(anime.title, anime.score, anime.image_url)"
   ]
  },
  {
   "cell_type": "code",
   "execution_count": null,
   "metadata": {},
   "outputs": [],
   "source": []
  }
 ],
 "metadata": {
  "kernelspec": {
   "display_name": "anime_recommender-1pmzqaR3",
   "language": "python",
   "name": "python3"
  },
  "language_info": {
   "codemirror_mode": {
    "name": "ipython",
    "version": 3
   },
   "file_extension": ".py",
   "mimetype": "text/x-python",
   "name": "python",
   "nbconvert_exporter": "python",
   "pygments_lexer": "ipython3",
   "version": "3.10.3"
  },
  "vscode": {
   "interpreter": {
    "hash": "a663876536c8774fb4767a59f934fc0c8ea00f69adaa5a94e23ea63642e9bf67"
   }
  }
 },
 "nbformat": 4,
 "nbformat_minor": 2
}
